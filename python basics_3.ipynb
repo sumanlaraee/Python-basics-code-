{
 "cells": [
  {
   "cell_type": "code",
   "execution_count": null,
   "id": "f0476a37",
   "metadata": {},
   "outputs": [],
   "source": [
    "#datatype in python \n",
    "\n",
    "greeting =\"Hello suman\"                    #string datatype\n",
    "number=202                                 #integer datatype\n",
    "decimal=20.9                               #float datatye\n",
    "comp=1j                                    #complex datatype\n",
    "list_of_items=['teapot', 'cap', 'bucket']  #list datatype\n",
    "tupple_items=('teapot', 'cap', 'bucket')   #tupple of items\n",
    "range_items =range(6)                      #range of items \n",
    "dict_items ={'name':'suman', 'age':21}     #dictionary contain key value pairs\n",
    "set_items={'auto', 'taxi', 'bus'}          #set\n",
    "value=true\n",
    "val=b \"hello\"                              #byte\n",
    "val_1=bytearray(4)                         #bytearray\n",
    "val_2=memoryview(byte(5))                  #memory view\n",
    "val_3=frozenset({'apple', 'ball', 'cat'})  #frozenset\n",
    "val_4=None                                 #Nonetype"
   ]
  },
  {
   "cell_type": "code",
   "execution_count": 1,
   "id": "7b4f99a7",
   "metadata": {},
   "outputs": [
    {
     "ename": "TypeError",
     "evalue": "can't convert complex to int",
     "output_type": "error",
     "traceback": [
      "\u001b[1;31m---------------------------------------------------------------------------\u001b[0m",
      "\u001b[1;31mTypeError\u001b[0m                                 Traceback (most recent call last)",
      "\u001b[1;32m~\\AppData\\Local\\Temp\\ipykernel_5016\\3832112816.py\u001b[0m in \u001b[0;36m<module>\u001b[1;34m\u001b[0m\n\u001b[0;32m      7\u001b[0m \u001b[1;31m#complex no cannot be type casted\u001b[0m\u001b[1;33m\u001b[0m\u001b[1;33m\u001b[0m\u001b[0m\n\u001b[0;32m      8\u001b[0m \u001b[0mc_number\u001b[0m\u001b[1;33m=\u001b[0m\u001b[1;36m1j\u001b[0m\u001b[1;33m\u001b[0m\u001b[1;33m\u001b[0m\u001b[0m\n\u001b[1;32m----> 9\u001b[1;33m \u001b[0mi_num\u001b[0m\u001b[1;33m=\u001b[0m\u001b[0mint\u001b[0m\u001b[1;33m(\u001b[0m\u001b[0mc_number\u001b[0m\u001b[1;33m)\u001b[0m\u001b[1;33m\u001b[0m\u001b[1;33m\u001b[0m\u001b[0m\n\u001b[0m",
      "\u001b[1;31mTypeError\u001b[0m: can't convert complex to int"
     ]
    }
   ],
   "source": [
    "#type casting \n",
    "\n",
    "x=1 \n",
    "y=float(x)             #typecast to float\n",
    "c =complex(x)          #typecast to complex\n",
    "\n",
    "#complex no cannot be type casted \n",
    "c_number=1j\n",
    "#i_num=int(c_number)          #error cannot convert complex into int \n"
   ]
  },
  {
   "cell_type": "code",
   "execution_count": 2,
   "id": "464af974",
   "metadata": {},
   "outputs": [
    {
     "name": "stdout",
     "output_type": "stream",
     "text": [
      "4\n"
     ]
    }
   ],
   "source": [
    "#Random Number \n",
    "import random \n",
    "print(random.randrange(1, 10))"
   ]
  },
  {
   "cell_type": "code",
   "execution_count": 3,
   "id": "298f19f2",
   "metadata": {},
   "outputs": [
    {
     "name": "stdout",
     "output_type": "stream",
     "text": [
      "hey once upon a time \n",
      "there was a guy who was a \n",
      "seepherd \n"
     ]
    }
   ],
   "source": [
    "#multiline string \n",
    "\n",
    "passage=\"\"\"hey once upon a time \n",
    "there was a guy who was a \n",
    "seepherd \"\"\"\n",
    "\n",
    "print(passage)"
   ]
  },
  {
   "cell_type": "code",
   "execution_count": 8,
   "id": "ca476705",
   "metadata": {},
   "outputs": [
    {
     "name": "stdout",
     "output_type": "stream",
     "text": [
      "u\n",
      "s\n",
      "u\n",
      "m\n",
      "a\n",
      "n\n",
      "length of name : 5\n"
     ]
    }
   ],
   "source": [
    "#strings in python work like array we can access by thier index\n",
    "name =\"suman\"\n",
    "print(name[1])\n",
    "\n",
    "#looping through string \n",
    "for letter in name:\n",
    "    print(letter)\n",
    "    \n",
    "#length of string \n",
    "print(\"length of name :\",len(name))\n"
   ]
  },
  {
   "cell_type": "code",
   "execution_count": 14,
   "id": "e92ed7c8",
   "metadata": {},
   "outputs": [
    {
     "name": "stdout",
     "output_type": "stream",
     "text": [
      "an l\n",
      "suman\n",
      "laraee\n"
     ]
    }
   ],
   "source": [
    "#concept of slicing in python (it returns range of charaters by secifying start and end index excluded end  )\n",
    "full_name = \"suman laraee\"\n",
    "print(full_name[3:7])\n",
    "print(full_name[:5])\n",
    "print(full_name[6:])"
   ]
  },
  {
   "cell_type": "code",
   "execution_count": 35,
   "id": "11e63a34",
   "metadata": {},
   "outputs": [
    {
     "name": "stdout",
     "output_type": "stream",
     "text": [
      "iam suman laraee & i'm 36\n",
      "iam suman laraee and iam 12\n",
      "i want 3 pizza and 5 zingers\n",
      "i want 3 pizza and 5 zingers\n"
     ]
    }
   ],
   "source": [
    "#format() function is used to combine numbers and strings \n",
    "age =36\n",
    "text =\"iam suman laraee & i'm {}\"\n",
    "print(text.format(age))\n",
    "\n",
    "#anotherway\n",
    "print(\"iam suman laraee and iam {}\".format(12))\n",
    "\n",
    "\n",
    "#anotherway\n",
    "myorder=\"i want {} pizza and {} zingers\"\n",
    "print(myorder.format(3, 5))\n",
    "\n",
    "#anotherway   use indices from 0 onwards \n",
    "pizza=3\n",
    "zingers=5\n",
    "myorder=\"i want {0} pizza and {1} zingers\"\n",
    "print(myorder.format(pizza, zingers))"
   ]
  },
  {
   "cell_type": "code",
   "execution_count": 34,
   "id": "e0f1a20f",
   "metadata": {},
   "outputs": [
    {
     "name": "stdout",
     "output_type": "stream",
     "text": [
      "YES , THIS IS SUMAN LARAEE\n",
      "no, this is not suman kumari\n",
      "SUMAN LARAEE\n",
      "suman laraee\n",
      "s u ma n\n",
      "human laraee\n",
      "['suman', 'laraee']\n"
     ]
    }
   ],
   "source": [
    "#check string \n",
    "name = \"suman laraee\"\n",
    "f_name =\"      s u ma n\"\n",
    "if \"laraee\" in name:\n",
    "    print('YES , THIS IS SUMAN LARAEE')\n",
    "if \"kumari\" not in name:\n",
    "    print(\"no, this is not suman kumari\")\n",
    "    \n",
    "\n",
    "#modify string\n",
    "\n",
    "\n",
    "print(name.upper())\n",
    "print(name.lower())\n",
    "o_name =f_name.strip()             # remove whitespaces from begning and end \n",
    "print(o_name)\n",
    "print(name.replace('s', 'h'))\n",
    "print(name.split(\" \"))\n"
   ]
  },
  {
   "cell_type": "code",
   "execution_count": 46,
   "id": "912f159c",
   "metadata": {},
   "outputs": [
    {
     "name": "stdout",
     "output_type": "stream",
     "text": [
      "['anjli', 'sadia', 'suhana', 420]\n",
      "length of students : 4\n",
      "suman\n",
      "['suman', 'sain ', 'sorrry']\n",
      "yes \n",
      "['suman', 'sain ', 'its fine']\n"
     ]
    }
   ],
   "source": [
    "#list (storing multiple variables in one varible(list items: changeable, ordered, allow duplicates))\n",
    "students=[\"suman\", \"sadia\", \"suhana\", 420]\n",
    "students[0]=\"anjli\"\n",
    "print(students)\n",
    "\n",
    "\n",
    "#check length using len()\n",
    "print(\"length of students :\", len(students))\n",
    "\n",
    "#we can use list constructor to create a list \n",
    "cycle =list((\"suman\", \"sain \", \"sorrry\"))          #error if use single paranthesis \n",
    "\n",
    "#access list items \n",
    "print(cycle[0])\n",
    "print(cycle[:3])\n",
    "\n",
    "if \"suman\"in cycle:\n",
    "    print(\"yes \")\n",
    "\n",
    "#change item value in list \n",
    "cycle[2]=\"its fine\"\n",
    "print(cycle)\n",
    "\n"
   ]
  },
  {
   "cell_type": "code",
   "execution_count": null,
   "id": "8c4a5f54",
   "metadata": {},
   "outputs": [],
   "source": []
  }
 ],
 "metadata": {
  "kernelspec": {
   "display_name": "Python 3 (ipykernel)",
   "language": "python",
   "name": "python3"
  },
  "language_info": {
   "codemirror_mode": {
    "name": "ipython",
    "version": 3
   },
   "file_extension": ".py",
   "mimetype": "text/x-python",
   "name": "python",
   "nbconvert_exporter": "python",
   "pygments_lexer": "ipython3",
   "version": "3.9.13"
  }
 },
 "nbformat": 4,
 "nbformat_minor": 5
}
