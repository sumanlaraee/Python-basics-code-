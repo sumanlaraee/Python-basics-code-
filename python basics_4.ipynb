{
 "cells": [
  {
   "cell_type": "code",
   "execution_count": 1,
   "id": "6a097f02",
   "metadata": {},
   "outputs": [
    {
     "name": "stdout",
     "output_type": "stream",
     "text": [
      "\\ lets print double quotation \"\n",
      " here starts a new line ,HERE comes 8 spaces:\tsuman\n",
      "what\n"
     ]
    }
   ],
   "source": [
    "#Escape characters in python \n",
    "print(\"\\\\ \" +\"lets print double quotation\"+\" \\\"\"+\"\\n\"+\" here starts a new line ,\"+'HERE comes 8 spaces:'+\"\\t\"+\"suman\")\n",
    "print (\"\\r\"+\"what\")"
   ]
  },
  {
   "cell_type": "code",
   "execution_count": 2,
   "id": "5e152a6d",
   "metadata": {},
   "outputs": [
    {
     "name": "stdout",
     "output_type": "stream",
     "text": [
      "['radha', 'rukmani', 'lakshmi', 'satyabhama']\n"
     ]
    }
   ],
   "source": [
    "#how to insert item in a list \n",
    "names=[\"radha\", \"rukmani\", \"lakshmi\"]\n",
    "names.insert(3, \"satyabhama\")\n",
    "print(names)"
   ]
  },
  {
   "cell_type": "code",
   "execution_count": 3,
   "id": "1b4eabad",
   "metadata": {},
   "outputs": [
    {
     "name": "stdout",
     "output_type": "stream",
     "text": [
      "['radha', 'rukmani', 'lakshmi', 'satyabhama', 'suman laraee']\n"
     ]
    }
   ],
   "source": [
    "#how to add an item in list at end \n",
    "names.append(\"suman laraee\")\n",
    "print(names)"
   ]
  },
  {
   "cell_type": "code",
   "execution_count": 4,
   "id": "70b33d27",
   "metadata": {},
   "outputs": [
    {
     "name": "stdout",
     "output_type": "stream",
     "text": [
      "['suman', 'shakuni', 'tarkasur', 'laraee', 'wadwani', 'maheshwari']\n"
     ]
    }
   ],
   "source": [
    "#how to append element from one tuple , dictionary or list to aontherlist  (use extend to merge two lists)\n",
    "names=[\"suman\", \"shakuni\" , \"tarkasur\"]\n",
    "castes=[\"laraee\", \"wadwani\", \"maheshwari\"]\n",
    "names.extend(castes)\n",
    "print(names)"
   ]
  },
  {
   "cell_type": "code",
   "execution_count": 5,
   "id": "3703cba7",
   "metadata": {},
   "outputs": [
    {
     "name": "stdout",
     "output_type": "stream",
     "text": [
      "['suman', 'shakuni', 'tarkasur', 'laraee', 'wadwani', 'maheshwari']\n",
      "['suman', 'tarkasur', 'laraee', 'wadwani', 'maheshwari']\n"
     ]
    }
   ],
   "source": [
    "#remove items from list \n",
    "#names.remove(\"suman\")       #use remove method \n",
    "print(names)\n",
    "#names.pop(2)                #use pop method\n",
    "del names[1]                 #use del method \n",
    "print(names)\n",
    "names.clear()\n",
    "del names                    #delete entire list \n"
   ]
  },
  {
   "cell_type": "code",
   "execution_count": 12,
   "id": "9a934499",
   "metadata": {},
   "outputs": [
    {
     "name": "stdout",
     "output_type": "stream",
     "text": [
      "pakistan\n",
      "iran\n",
      "iraq\n",
      "bagdad\n",
      "\n",
      "printing through index :\n",
      "pakistan\n",
      "iran\n",
      "iraq\n",
      "bagdad\n",
      "\n",
      "using while loop printing names\n",
      "pakistan\n",
      "iran\n",
      "iraq\n",
      "bagdad\n"
     ]
    }
   ],
   "source": [
    "#looping through list\n",
    "\n",
    "#(1): Direct looping\n",
    "countries=['pakistan', 'iran', 'iraq', 'bagdad']\n",
    "for x in countries:\n",
    "    print(x)\n",
    "    \n",
    "#(2):looping through index\n",
    "countries=['pakistan', 'iran', 'iraq', 'bagdad']\n",
    "print(\"\\nprinting through index :\")\n",
    "for i in range(len(countries)):\n",
    "    print(countries[i])\n",
    "\n",
    "#(3):using while loop\n",
    "countries=['pakistan', 'iran', 'iraq', 'bagdad']\n",
    "i=0\n",
    "print(\"\\nusing while loop printing names\")\n",
    "while i< (len(countries)):\n",
    "      print(countries[i])\n",
    "      i=i+1\n"
   ]
  },
  {
   "cell_type": "code",
   "execution_count": 26,
   "id": "cb07416a",
   "metadata": {},
   "outputs": [
    {
     "name": "stdout",
     "output_type": "stream",
     "text": [
      "pakistan\n",
      "bagdad\n",
      "iraq\n",
      "itly\n",
      "['pakistan']\n",
      "['pakistan', 'bagdad']\n",
      "['pakistan', 'bagdad', 'iraq']\n",
      "['pakistan', 'bagdad', 'iraq']\n",
      "\n",
      "using list comprehension :\n",
      "\n",
      "['pakistan', 'bagdad', 'iraq']\n",
      "old list : ['pakistan', 'bagdad', 'iraq', 'itly']\n"
     ]
    }
   ],
   "source": [
    "#list comprehension (shorthand syntax of for loop in list )\n",
    "countries=['pakistan', 'bagdad', 'iraq', 'itly']\n",
    "[print(x) for x in countries]\n",
    "\n",
    "#how to create new list based on old list (based on for loop)\n",
    "\n",
    "countries=['pakistan', 'bagdad', 'iraq', 'itly']\n",
    "most_wanted_countries=[]\n",
    "for x in countries:\n",
    "    if 'a' in x:\n",
    "        most_wanted_countries.append(x)\n",
    "    print(most_wanted_countries)\n",
    "\n",
    "#how to create new list based on old list (using list comprehension)\n",
    "countries=['pakistan', 'bagdad', 'iraq', 'itly']\n",
    "print('\\nusing list comprehension :\\n')\n",
    "most_wanted_list2=[x for x in countries if \"a\" in x]\n",
    "print(most_wanted_list2)\n",
    "\n",
    "#note old list isnt changed \n",
    "print(\"old list :\", countries)"
   ]
  },
  {
   "cell_type": "code",
   "execution_count": 31,
   "id": "143bdf6f",
   "metadata": {},
   "outputs": [
    {
     "name": "stdout",
     "output_type": "stream",
     "text": [
      "['a', 'l', 'm', 'p', 't', 'z']\n",
      "[45, 80, 100, 130, 200]\n"
     ]
    }
   ],
   "source": [
    "#how to sort number or alphabets in ascending order \n",
    "alphabets=[\"z\", \"a\", \"t\", \"m\", \"p\",\"l\"]\n",
    "alphabets.sort()\n",
    "print(alphabets)\n",
    "\n",
    "#bow to sort numbers \n",
    "numbers=[100, 80, 200 , 130, 45]\n",
    "numbers.sort()\n",
    "print(numbers)"
   ]
  },
  {
   "cell_type": "code",
   "execution_count": null,
   "id": "f6278618",
   "metadata": {},
   "outputs": [],
   "source": []
  }
 ],
 "metadata": {
  "kernelspec": {
   "display_name": "Python 3 (ipykernel)",
   "language": "python",
   "name": "python3"
  },
  "language_info": {
   "codemirror_mode": {
    "name": "ipython",
    "version": 3
   },
   "file_extension": ".py",
   "mimetype": "text/x-python",
   "name": "python",
   "nbconvert_exporter": "python",
   "pygments_lexer": "ipython3",
   "version": "3.9.13"
  }
 },
 "nbformat": 4,
 "nbformat_minor": 5
}
